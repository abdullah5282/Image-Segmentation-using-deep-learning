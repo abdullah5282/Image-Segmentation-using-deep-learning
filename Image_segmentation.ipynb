{
  "nbformat": 4,
  "nbformat_minor": 0,
  "metadata": {
    "colab": {
      "provenance": [],
      "gpuType": "T4",
      "mount_file_id": "1r7Mal_5DH2yQ-9WUBOmWsqImHcZ2rz3c",
      "authorship_tag": "ABX9TyMgYAXFMj7M7C+nT3DNOJfj",
      "include_colab_link": true
    },
    "kernelspec": {
      "name": "python3",
      "display_name": "Python 3"
    },
    "language_info": {
      "name": "python"
    },
    "accelerator": "GPU",
    "gpuClass": "standard"
  },
  "cells": [
    {
      "cell_type": "markdown",
      "metadata": {
        "id": "view-in-github",
        "colab_type": "text"
      },
      "source": [
        "<a href=\"https://colab.research.google.com/github/abdullah5282/Image-Segmentation-using-deep-learning/blob/main/Image_segmentation.ipynb\" target=\"_parent\"><img src=\"https://colab.research.google.com/assets/colab-badge.svg\" alt=\"Open In Colab\"/></a>"
      ]
    },
    {
      "cell_type": "code",
      "source": [
        "import os\n",
        "os.environ['CUDA_VISIBLE_DEVICES'] = '0'\n",
        "import numpy as np\n",
        "import cv2\n",
        "import matplotlib.pyplot as plt"
      ],
      "metadata": {
        "id": "Y5w0Z68xOBNQ"
      },
      "execution_count": 1,
      "outputs": []
    },
    {
      "cell_type": "code",
      "source": [
        "DATA_DIR = '/content/drive/MyDrive/Colab Notebooks/TrayDataset'\n",
        "x_train_dir = os.path.join(DATA_DIR, 'XTrain')\n",
        "y_train_dir = os.path.join(DATA_DIR, 'yTrain')\n",
        "\n",
        "x_valid_dir = os.path.join(DATA_DIR, 'XVal')\n",
        "y_valid_dir = os.path.join(DATA_DIR, 'yVal')\n",
        "\n",
        "x_test_dir = os.path.join(DATA_DIR, 'XTest')\n",
        "y_test_dir = os.path.join(DATA_DIR, 'yTest')"
      ],
      "metadata": {
        "id": "tUJeKmoGS93Q"
      },
      "execution_count": 2,
      "outputs": []
    },
    {
      "cell_type": "code",
      "source": [
        "CLASSES = ['background','tray','cutlery','form','straw','meatball',\n",
        "               'beef','roastlamb','beeftomatocasserole','ham','bean','cucumber',\n",
        "               'leaf','tomato','boiledrice','beefmexicanmeatballs',\n",
        "               'spinachandpumpkinrisotto','bakedfish','gravy','zucchini','carrot',\n",
        "               'broccoli','pumpkin','celery','sandwich','sidesalad','tartaresauce',\n",
        "               'jacketpotato','creamedpotato','bread','margarine',\n",
        "               'soup','apple','cannedfruit','milk','vanillayogurt',\n",
        "               'jelly','custard','lemonsponge','juice','applejuice','orangejuice','water']"
      ],
      "metadata": {
        "id": "e3xwKBsOTKu_"
      },
      "execution_count": 3,
      "outputs": []
    },
    {
      "cell_type": "code",
      "source": [
        "from torch.utils.data import Dataset as BaseDataset"
      ],
      "metadata": {
        "id": "BvDzH2J7ibw9"
      },
      "execution_count": 4,
      "outputs": []
    },
    {
      "cell_type": "code",
      "source": [
        "class Dataset(BaseDataset):\n",
        "    \"\"\"TrayDataset. Read images, apply augmentation and preprocessing transformations.\n",
        "    \n",
        "    Args:\n",
        "        images_dir (str): path to images folder\n",
        "        masks_dir (str): path to segmentation masks folder\n",
        "        class_values (list): values of classes to extract from segmentation mask\n",
        "        augmentation (albumentations.Compose): data transfromation pipeline \n",
        "            (e.g. flip, scale, etc.)\n",
        "        preprocessing (albumentations.Compose): data preprocessing \n",
        "            (e.g. noralization, shape manipulation, etc.)\n",
        "    \n",
        "    \"\"\"\n",
        "    \n",
        "    def __init__(\n",
        "            self, \n",
        "            images_dir, \n",
        "            masks_dir, \n",
        "            classes=None, \n",
        "            augmentation=None, \n",
        "            preprocessing=None,\n",
        "    ):\n",
        "        #get images(x) and masks(y) ids\n",
        "        self.ids_x = sorted(os.listdir(images_dir))\n",
        "        #['1001a01.jpg', '1005a.jpg', '1006a72.jpg', '2001a72.jpg', '2002a.jpg'] etc.\n",
        "        self.ids_y = sorted(os.listdir(masks_dir))\n",
        "        \n",
        "        #get images(x) and masks(y) full paths (fps)\n",
        "        self.images_fps = [os.path.join(images_dir, image_id) for image_id in self.ids_x]\n",
        "        #'/content/drive/My Drive/Colab Notebooks/TrayDataset/XTest/1001a01.jpg'\n",
        "        self.masks_fps = [os.path.join(masks_dir, image_id) for image_id in self.ids_y]\n",
        "        \n",
        "        # convert str names to class values on masks\n",
        "        self.class_values = [CLASSES.index(cls.lower()) for cls in classes]\n",
        "        self.augmentation = augmentation\n",
        "        self.preprocessing = preprocessing\n",
        "        \n",
        "    def __getitem__(self, i):\n",
        "        \n",
        "        # read data\n",
        "        image = cv2.imread(self.images_fps[i])\n",
        "        image = cv2.cvtColor(image, cv2.COLOR_BGR2RGB)\n",
        "        mask = cv2.imread(self.masks_fps[i], 0)\n",
        "        \n",
        "        # extract certain classes from mask (e.g. cars)\n",
        "        masks = [(mask == v) for v in self.class_values]\n",
        "        mask = np.stack(masks, axis=-1).astype('float')\n",
        "        \n",
        "        \n",
        "        # apply augmentations\n",
        "        if self.augmentation:\n",
        "            sample = self.augmentation(image=image, mask=mask)\n",
        "            image, mask = sample['image'], sample['mask']\n",
        "        \n",
        "        # apply preprocessing\n",
        "        if self.preprocessing:\n",
        "            sample = self.preprocessing(image=image, mask=mask)\n",
        "            image, mask = sample['image'], sample['mask']\n",
        " \n",
        "        return image, mask\n",
        "        \n",
        "    def __len__(self):\n",
        "        return len(self.ids_x)"
      ],
      "metadata": {
        "id": "5lygCSUtijpi"
      },
      "execution_count": 5,
      "outputs": []
    }
  ]
}