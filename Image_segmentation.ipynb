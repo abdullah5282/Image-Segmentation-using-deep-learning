{
  "nbformat": 4,
  "nbformat_minor": 0,
  "metadata": {
    "colab": {
      "provenance": [],
      "gpuType": "T4",
      "mount_file_id": "1r7Mal_5DH2yQ-9WUBOmWsqImHcZ2rz3c",
      "authorship_tag": "ABX9TyOpJJ1jESy5CJCgklYLOvlf",
      "include_colab_link": true
    },
    "kernelspec": {
      "name": "python3",
      "display_name": "Python 3"
    },
    "language_info": {
      "name": "python"
    },
    "accelerator": "GPU",
    "gpuClass": "standard"
  },
  "cells": [
    {
      "cell_type": "markdown",
      "metadata": {
        "id": "view-in-github",
        "colab_type": "text"
      },
      "source": [
        "<a href=\"https://colab.research.google.com/github/abdullah5282/Image-Segmentation-using-deep-learning/blob/main/Image_segmentation.ipynb\" target=\"_parent\"><img src=\"https://colab.research.google.com/assets/colab-badge.svg\" alt=\"Open In Colab\"/></a>"
      ]
    },
    {
      "cell_type": "code",
      "source": [
        "import os\n",
        "os.environ['CUDA_VISIBLE_DEVICES'] = '0'\n",
        "import numpy as np\n",
        "import cv2\n",
        "import matplotlib.pyplot as plt"
      ],
      "metadata": {
        "id": "Y5w0Z68xOBNQ"
      },
      "execution_count": 1,
      "outputs": []
    },
    {
      "cell_type": "code",
      "source": [
        "DATA_DIR = '/content/drive/MyDrive/Colab Notebooks/TrayDataset'\n",
        "x_train_dir = os.path.join(DATA_DIR, 'XTrain')\n",
        "y_train_dir = os.path.join(DATA_DIR, 'yTrain')\n",
        "\n",
        "x_valid_dir = os.path.join(DATA_DIR, 'XVal')\n",
        "y_valid_dir = os.path.join(DATA_DIR, 'yVal')\n",
        "\n",
        "x_test_dir = os.path.join(DATA_DIR, 'XTest')\n",
        "y_test_dir = os.path.join(DATA_DIR, 'yTest')"
      ],
      "metadata": {
        "id": "tUJeKmoGS93Q"
      },
      "execution_count": 2,
      "outputs": []
    },
    {
      "cell_type": "code",
      "source": [
        "CLASSES = ['background','tray','cutlery','form','straw','meatball',\n",
        "               'beef','roastlamb','beeftomatocasserole','ham','bean','cucumber',\n",
        "               'leaf','tomato','boiledrice','beefmexicanmeatballs',\n",
        "               'spinachandpumpkinrisotto','bakedfish','gravy','zucchini','carrot',\n",
        "               'broccoli','pumpkin','celery','sandwich','sidesalad','tartaresauce',\n",
        "               'jacketpotato','creamedpotato','bread','margarine',\n",
        "               'soup','apple','cannedfruit','milk','vanillayogurt',\n",
        "               'jelly','custard','lemonsponge','juice','applejuice','orangejuice','water']"
      ],
      "metadata": {
        "id": "e3xwKBsOTKu_"
      },
      "execution_count": 3,
      "outputs": []
    }
  ]
}